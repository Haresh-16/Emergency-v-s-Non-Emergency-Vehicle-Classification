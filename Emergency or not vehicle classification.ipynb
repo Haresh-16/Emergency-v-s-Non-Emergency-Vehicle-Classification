{
  "nbformat": 4,
  "nbformat_minor": 0,
  "metadata": {
    "colab": {
      "name": "Vehicle classification.ipynb",
      "provenance": [],
      "collapsed_sections": []
    },
    "kernelspec": {
      "name": "python3",
      "display_name": "Python 3"
    },
    "accelerator": "GPU"
  },
  "cells": [
    {
      "cell_type": "code",
      "metadata": {
        "id": "laapCZkneUxk",
        "colab_type": "code",
        "colab": {}
      },
      "source": [
        "!mkdir train\n",
        "!unzip /content/drive/My\\ Drive/Vehicle\\ Janata\\ Hack/train_SOaYf6m.zip -d train"
      ],
      "execution_count": null,
      "outputs": []
    },
    {
      "cell_type": "code",
      "metadata": {
        "id": "fKrArFaKhdmt",
        "colab_type": "code",
        "colab": {
          "base_uri": "https://localhost:8080/",
          "height": 34
        },
        "outputId": "73d120e6-ae06-4287-efaa-e2bdb7a3c6cc"
      },
      "source": [
        "\"/content/train/train.csv\""
      ],
      "execution_count": null,
      "outputs": [
        {
          "output_type": "execute_result",
          "data": {
            "text/plain": [
              "'/content/train/train.csv'"
            ]
          },
          "metadata": {
            "tags": []
          },
          "execution_count": 2
        }
      ]
    },
    {
      "cell_type": "code",
      "metadata": {
        "id": "ilJ51YA4KLVn",
        "colab_type": "code",
        "colab": {}
      },
      "source": [
        "import pandas as pd\n",
        "import os\n",
        "import cv2 as cv\n",
        "\n",
        "train=pd.read_csv(\"/content/train/train.csv\")\n",
        "\n",
        "num_class=train[\"emergency_or_not\"].value_counts()\n",
        "\n",
        "classes=train[\"emergency_or_not\"].unique()\n",
        "\n",
        "for i in classes:\n",
        "  if(i==0):\n",
        "    os.mkdir(os.path.sep.join(['/content/train','not_emergency']))\n",
        "  else:\n",
        "    os.mkdir(os.path.sep.join(['/content/train','emergency']))\n",
        "    \n",
        "base='/content/train/images'\n",
        "\n",
        "imgids=train[\"image_names\"]\n",
        "\n",
        "for i,v in enumerate(imgids):\n",
        "    imagePath=os.path.sep.join([base,v])\n",
        "    img=cv.imread(imagePath)\n",
        "    if(train.iloc[i][1]==0):\n",
        "      folder='not_emergency'\n",
        "    else:\n",
        "      folder='emergency'\n",
        "    cv.imwrite(os.path.sep.join(['/content/train',folder+'/'+v]),img)"
      ],
      "execution_count": null,
      "outputs": []
    },
    {
      "cell_type": "code",
      "metadata": {
        "id": "52LjFRaMiBzQ",
        "colab_type": "code",
        "colab": {}
      },
      "source": [
        "import tensorflow as tf\n",
        "from tensorflow.keras.preprocessing.image import img_to_array\n",
        "from tensorflow.keras.preprocessing.image import load_img\n",
        "\n",
        "emergency_datagen=tf.keras.preprocessing.image.ImageDataGenerator(\n",
        "    featurewise_center=True,\n",
        "    featurewise_std_normalization=True,\n",
        "    rotation_range=10,\n",
        "    width_shift_range=0.1,\n",
        "    height_shift_range=0.1,\n",
        "    shear_range=0.15,\n",
        "    zoom_range=0.15,\n",
        "    rescale=1/255.,\n",
        "    horizontal_flip=True,\n",
        "    validation_split=0.2\n",
        ")"
      ],
      "execution_count": null,
      "outputs": []
    },
    {
      "cell_type": "code",
      "metadata": {
        "id": "X2ATz305oC_V",
        "colab_type": "code",
        "colab": {}
      },
      "source": [
        "emergency_img_ids=train[train[\"emergency_or_not\"]==1]"
      ],
      "execution_count": null,
      "outputs": []
    },
    {
      "cell_type": "code",
      "metadata": {
        "id": "xGqM3m91pfIr",
        "colab_type": "code",
        "colab": {}
      },
      "source": [
        "emergency_img_ids=(emergency_img_ids)[\"image_names\"]"
      ],
      "execution_count": null,
      "outputs": []
    },
    {
      "cell_type": "code",
      "metadata": {
        "id": "g9xbTUca9KxD",
        "colab_type": "code",
        "colab": {}
      },
      "source": [
        "emergency_img_ids=list(emergency_img_ids)"
      ],
      "execution_count": null,
      "outputs": []
    },
    {
      "cell_type": "code",
      "metadata": {
        "id": "v5U5Fw5Vv-R5",
        "colab_type": "code",
        "colab": {}
      },
      "source": [
        "not_emergency_img_ids=train[train[\"emergency_or_not\"]==0]"
      ],
      "execution_count": null,
      "outputs": []
    },
    {
      "cell_type": "code",
      "metadata": {
        "id": "DiE2YvlSwBGJ",
        "colab_type": "code",
        "colab": {}
      },
      "source": [
        "not_emergency_img_ids=not_emergency_img_ids[\"image_names\"]"
      ],
      "execution_count": null,
      "outputs": []
    },
    {
      "cell_type": "code",
      "metadata": {
        "id": "OW2RAWFawU8C",
        "colab_type": "code",
        "colab": {}
      },
      "source": [
        "not_emergency_img_ids=list(not_emergency_img_ids)"
      ],
      "execution_count": null,
      "outputs": []
    },
    {
      "cell_type": "code",
      "metadata": {
        "id": "wM8zqOOLQCwZ",
        "colab_type": "code",
        "colab": {}
      },
      "source": [
        "test_em=emergency_img_ids[:int(0.1*len(emergency_img_ids))]\n",
        "test_not_em=not_emergency_img_ids[:int(0.1*len(not_emergency_img_ids))]"
      ],
      "execution_count": null,
      "outputs": []
    },
    {
      "cell_type": "code",
      "metadata": {
        "id": "L1izDv1lQX4t",
        "colab_type": "code",
        "colab": {}
      },
      "source": [
        "emergency_img_ids=emergency_img_ids[int(0.1*len(emergency_img_ids)):]\n",
        "not_emergency_img_ids=not_emergency_img_ids[int(0.1*len(not_emergency_img_ids)):]"
      ],
      "execution_count": null,
      "outputs": []
    },
    {
      "cell_type": "code",
      "metadata": {
        "id": "JGRqFspPxLET",
        "colab_type": "code",
        "colab": {
          "base_uri": "https://localhost:8080/",
          "height": 34
        },
        "outputId": "d6753970-0ede-411a-d679-629b2c0a8c55"
      },
      "source": [
        "len(emergency_img_ids)"
      ],
      "execution_count": null,
      "outputs": [
        {
          "output_type": "execute_result",
          "data": {
            "text/plain": [
              "613"
            ]
          },
          "metadata": {
            "tags": []
          },
          "execution_count": 13
        }
      ]
    },
    {
      "cell_type": "code",
      "metadata": {
        "id": "u1StS9VRQpby",
        "colab_type": "code",
        "colab": {
          "base_uri": "https://localhost:8080/",
          "height": 34
        },
        "outputId": "fd5fdb42-aa92-4af4-8fdb-98652c029758"
      },
      "source": [
        "len(test_em)"
      ],
      "execution_count": null,
      "outputs": [
        {
          "output_type": "execute_result",
          "data": {
            "text/plain": [
              "68"
            ]
          },
          "metadata": {
            "tags": []
          },
          "execution_count": 14
        }
      ]
    },
    {
      "cell_type": "code",
      "metadata": {
        "id": "3GS2GxBd9fGx",
        "colab_type": "code",
        "colab": {
          "base_uri": "https://localhost:8080/",
          "height": 34
        },
        "outputId": "a6f5e00f-e1a5-45bd-d7a8-575d67ee55bc"
      },
      "source": [
        "len(not_emergency_img_ids)"
      ],
      "execution_count": null,
      "outputs": [
        {
          "output_type": "execute_result",
          "data": {
            "text/plain": [
              "869"
            ]
          },
          "metadata": {
            "tags": []
          },
          "execution_count": 15
        }
      ]
    },
    {
      "cell_type": "code",
      "metadata": {
        "id": "UDyqIRKWQte8",
        "colab_type": "code",
        "colab": {
          "base_uri": "https://localhost:8080/",
          "height": 34
        },
        "outputId": "4c018103-0afe-47e0-9c63-a0cc1205b3c3"
      },
      "source": [
        "len(test_not_em)"
      ],
      "execution_count": null,
      "outputs": [
        {
          "output_type": "execute_result",
          "data": {
            "text/plain": [
              "96"
            ]
          },
          "metadata": {
            "tags": []
          },
          "execution_count": 16
        }
      ]
    },
    {
      "cell_type": "code",
      "metadata": {
        "id": "vESzzWn1prgj",
        "colab_type": "code",
        "colab": {
          "base_uri": "https://localhost:8080/",
          "height": 105
        },
        "outputId": "a8929d8c-0b0b-47be-92e8-72ca247d1f0b"
      },
      "source": [
        "import numpy as np\n",
        "for img in not_emergency_img_ids:\n",
        "  total=0\n",
        "  imgpath=os.path.sep.join(['/content/train/images',img])\n",
        "  image = load_img(imgpath)\n",
        "  image = img_to_array(image)\n",
        "  image = np.expand_dims(image, axis=0)\n",
        "  imageGen = emergency_datagen.flow(image,\n",
        "                                    batch_size=1,\n",
        "                                    save_to_dir='/content/train/not_emergency',\n",
        "\t                                  save_prefix=\"aug\", \n",
        "                                    save_format=\"jpg\")\n",
        "  for auged_img in imageGen:\n",
        "      break"
      ],
      "execution_count": null,
      "outputs": [
        {
          "output_type": "stream",
          "text": [
            "/usr/local/lib/python3.6/dist-packages/keras_preprocessing/image/image_data_generator.py:720: UserWarning: This ImageDataGenerator specifies `featurewise_center`, but it hasn't been fit on any training data. Fit it first by calling `.fit(numpy_data)`.\n",
            "  warnings.warn('This ImageDataGenerator specifies '\n",
            "/usr/local/lib/python3.6/dist-packages/keras_preprocessing/image/image_data_generator.py:728: UserWarning: This ImageDataGenerator specifies `featurewise_std_normalization`, but it hasn't been fit on any training data. Fit it first by calling `.fit(numpy_data)`.\n",
            "  warnings.warn('This ImageDataGenerator specifies '\n"
          ],
          "name": "stderr"
        }
      ]
    },
    {
      "cell_type": "code",
      "metadata": {
        "id": "jU9fCyZhrs0B",
        "colab_type": "code",
        "colab": {
          "base_uri": "https://localhost:8080/",
          "height": 34
        },
        "outputId": "38004fb6-396f-452c-bf01-a123879d33bc"
      },
      "source": [
        "len(os.listdir('/content/train/not_emergency'))"
      ],
      "execution_count": null,
      "outputs": [
        {
          "output_type": "execute_result",
          "data": {
            "text/plain": [
              "1791"
            ]
          },
          "metadata": {
            "tags": []
          },
          "execution_count": 18
        }
      ]
    },
    {
      "cell_type": "code",
      "metadata": {
        "id": "3-DznI_m9xTD",
        "colab_type": "code",
        "colab": {
          "base_uri": "https://localhost:8080/",
          "height": 105
        },
        "outputId": "e34f55bb-c1b2-471d-d995-6cfe7b4970b6"
      },
      "source": [
        "import numpy as np\n",
        "for img in emergency_img_ids:\n",
        "  total=0\n",
        "  imgpath=os.path.sep.join(['/content/train/images',img])\n",
        "  image = load_img(imgpath)\n",
        "  image = img_to_array(image)\n",
        "  image = np.expand_dims(image, axis=0)\n",
        "  imageGen = emergency_datagen.flow(image,\n",
        "                                    batch_size=1,\n",
        "                                    save_to_dir='/content/train/emergency',\n",
        "\t                                  save_prefix=\"aug\", \n",
        "                                    save_format=\"jpg\")\n",
        "  for auged_img in imageGen:\n",
        "    total+=1\n",
        "    if(total>2):\n",
        "      break"
      ],
      "execution_count": null,
      "outputs": [
        {
          "output_type": "stream",
          "text": [
            "/usr/local/lib/python3.6/dist-packages/keras_preprocessing/image/image_data_generator.py:720: UserWarning: This ImageDataGenerator specifies `featurewise_center`, but it hasn't been fit on any training data. Fit it first by calling `.fit(numpy_data)`.\n",
            "  warnings.warn('This ImageDataGenerator specifies '\n",
            "/usr/local/lib/python3.6/dist-packages/keras_preprocessing/image/image_data_generator.py:728: UserWarning: This ImageDataGenerator specifies `featurewise_std_normalization`, but it hasn't been fit on any training data. Fit it first by calling `.fit(numpy_data)`.\n",
            "  warnings.warn('This ImageDataGenerator specifies '\n"
          ],
          "name": "stderr"
        }
      ]
    },
    {
      "cell_type": "code",
      "metadata": {
        "id": "g_lHf-WG9-PV",
        "colab_type": "code",
        "colab": {
          "base_uri": "https://localhost:8080/",
          "height": 34
        },
        "outputId": "68e0e975-be85-4700-9dd4-deaa0ff4261f"
      },
      "source": [
        "len(os.listdir('/content/train/emergency'))"
      ],
      "execution_count": null,
      "outputs": [
        {
          "output_type": "execute_result",
          "data": {
            "text/plain": [
              "2839"
            ]
          },
          "metadata": {
            "tags": []
          },
          "execution_count": 22
        }
      ]
    },
    {
      "cell_type": "code",
      "metadata": {
        "id": "kNWseYLzsq5p",
        "colab_type": "code",
        "colab": {}
      },
      "source": [
        "import shutil\n",
        "for img in os.listdir('/content/train/not_emergency'):\n",
        "  shutil.copy(os.path.sep.join(['/content/train/not_emergency',img]),'/content/drive/My Drive/Vehicle Janata Hack/Aug_emergency')"
      ],
      "execution_count": null,
      "outputs": []
    },
    {
      "cell_type": "code",
      "metadata": {
        "id": "f90R2AHn1RDq",
        "colab_type": "code",
        "colab": {}
      },
      "source": [
        "from tensorflow.keras.preprocessing.image import img_to_array\n",
        "from tensorflow.keras.applications import ResNet50\n",
        "from tensorflow.keras.applications.resnet import preprocess_input\n",
        "import cv2\n",
        "\n",
        "data=[] #Holds features\n",
        "#Augmenting Not emergency images\n",
        "for i,j in enumerate(os.listdir('/content/train/not_emergency')):\n",
        "    direc = '/content/train/not_emergency/%s'%j\n",
        "    img1 = cv2.imread(direc)\n",
        "    img1 = cv2.cvtColor(img1,cv2.COLOR_BGR2RGB)\n",
        "    image = cv2.resize(img1,(224,224))\n",
        "    image=img_to_array(image)\n",
        "    image=preprocess_input(image)\n",
        "    data.append(image)\n",
        "    \n",
        "data = np.array(data, dtype=\"float32\")\n"
      ],
      "execution_count": null,
      "outputs": []
    },
    {
      "cell_type": "code",
      "metadata": {
        "id": "6CyM4U0IAWWY",
        "colab_type": "code",
        "colab": {}
      },
      "source": [
        "data.shape#When data was numpy array"
      ],
      "execution_count": null,
      "outputs": []
    },
    {
      "cell_type": "code",
      "metadata": {
        "id": "2BiVKt2O360L",
        "colab_type": "code",
        "colab": {}
      },
      "source": [
        "data=list(data) #Helpful while appending Emergency images"
      ],
      "execution_count": null,
      "outputs": []
    },
    {
      "cell_type": "code",
      "metadata": {
        "id": "hebslWwA_1Pj",
        "colab_type": "code",
        "colab": {}
      },
      "source": [
        "#Augmenting emergency images\n",
        "for i,j in enumerate(os.listdir('/content/train/emergency')):\n",
        "    direc = '/content/train/emergency/%s'%j\n",
        "    img1 = cv2.imread(direc)\n",
        "    img1 = cv2.cvtColor(img1,cv2.COLOR_BGR2RGB)\n",
        "    image = cv2.resize(img1,(224,224))\n",
        "    image=img_to_array(image)\n",
        "    image=preprocess_input(image)\n",
        "    data.append(image)\n",
        "    \n",
        "data = np.array(data, dtype=\"float32\")"
      ],
      "execution_count": null,
      "outputs": []
    },
    {
      "cell_type": "code",
      "metadata": {
        "id": "QTZaY7iz4Dwq",
        "colab_type": "code",
        "colab": {}
      },
      "source": [
        "labels=['no']*len(os.listdir('/content/train/not_emergency')) + ['yes']*len(os.listdir('/content/train/emergency'))"
      ],
      "execution_count": null,
      "outputs": []
    },
    {
      "cell_type": "code",
      "metadata": {
        "id": "U3yXqkRPC0n-",
        "colab_type": "code",
        "colab": {}
      },
      "source": [
        "labels=np.array(labels)"
      ],
      "execution_count": null,
      "outputs": []
    },
    {
      "cell_type": "code",
      "metadata": {
        "id": "CTfkxpDx6q6x",
        "colab_type": "code",
        "colab": {}
      },
      "source": [
        "from sklearn.preprocessing import LabelBinarizer\n",
        "lb=LabelBinarizer()\n",
        "labs=lb.fit_transform(labels)"
      ],
      "execution_count": null,
      "outputs": []
    },
    {
      "cell_type": "code",
      "metadata": {
        "id": "iLz1VZ5KDEhn",
        "colab_type": "code",
        "colab": {
          "base_uri": "https://localhost:8080/",
          "height": 34
        },
        "outputId": "96c1bf32-be9b-4bc3-e949-1c37115f397a"
      },
      "source": [
        "lb.classes_"
      ],
      "execution_count": null,
      "outputs": [
        {
          "output_type": "execute_result",
          "data": {
            "text/plain": [
              "array(['no', 'yes'], dtype='<U3')"
            ]
          },
          "metadata": {
            "tags": []
          },
          "execution_count": 34
        }
      ]
    },
    {
      "cell_type": "markdown",
      "metadata": {
        "id": "i6uxNU2pRUm6",
        "colab_type": "text"
      },
      "source": [
        "**LOADING TEST DATA**"
      ]
    },
    {
      "cell_type": "code",
      "metadata": {
        "id": "m7ptA9Y_Rcr9",
        "colab_type": "code",
        "colab": {}
      },
      "source": [
        "test_data=[]\n",
        "test_labels=[]\n",
        "#Augmenting Not emergency test images\n",
        "for i,j in enumerate(test_not_em):\n",
        "    direc = '/content/train/images/%s'%j\n",
        "    img1 = cv2.imread(direc)\n",
        "    img1 = cv2.cvtColor(img1,cv2.COLOR_BGR2RGB)\n",
        "    image = cv2.resize(img1,(224,224))\n",
        "    image=img_to_array(image)\n",
        "    image=preprocess_input(image)\n",
        "    test_data.append(image)"
      ],
      "execution_count": null,
      "outputs": []
    },
    {
      "cell_type": "code",
      "metadata": {
        "id": "vQzHgk8FR4E-",
        "colab_type": "code",
        "colab": {}
      },
      "source": [
        "\n",
        "#Augmenting emergency test images\n",
        "for i,j in enumerate(test_em):\n",
        "    direc = '/content/train/images/%s'%j\n",
        "    img1 = cv2.imread(direc)\n",
        "    img1 = cv2.cvtColor(img1,cv2.COLOR_BGR2RGB)\n",
        "    image = cv2.resize(img1,(224,224))\n",
        "    image=img_to_array(image)\n",
        "    image=preprocess_input(image)\n",
        "    test_data.append(image)\n",
        "\n",
        "test_labels=['no']*len(test_not_em) + ['yes']*len(test_em)\n",
        "    "
      ],
      "execution_count": null,
      "outputs": []
    },
    {
      "cell_type": "code",
      "metadata": {
        "id": "z8w6-JTKSYGU",
        "colab_type": "code",
        "colab": {}
      },
      "source": [
        "#LABEL BINARIZING TEST LABELS\n",
        "lb_test=LabelBinarizer()\n",
        "test_lab=lb_test.fit_transform(test_labels)"
      ],
      "execution_count": null,
      "outputs": []
    },
    {
      "cell_type": "code",
      "metadata": {
        "id": "C6JcuoxrSj3t",
        "colab_type": "code",
        "colab": {
          "base_uri": "https://localhost:8080/",
          "height": 34
        },
        "outputId": "ea2be9d4-fcec-4ea8-c820-fed96beb4f82"
      },
      "source": [
        "lb_test.classes_"
      ],
      "execution_count": null,
      "outputs": [
        {
          "output_type": "execute_result",
          "data": {
            "text/plain": [
              "array(['no', 'yes'], dtype='<U3')"
            ]
          },
          "metadata": {
            "tags": []
          },
          "execution_count": 37
        }
      ]
    },
    {
      "cell_type": "markdown",
      "metadata": {
        "id": "_5fop5ApTmXg",
        "colab_type": "text"
      },
      "source": [
        "**RANDOM SHUFFLING DATA**"
      ]
    },
    {
      "cell_type": "code",
      "metadata": {
        "id": "XVQUPWFZTrb0",
        "colab_type": "code",
        "colab": {}
      },
      "source": [
        "#Train data\n",
        "map_data=list(zip(data,labels))\n",
        "random.seed(4)\n",
        "random.shuffle(map_data)\n",
        "data,labels=zip(*map_data)"
      ],
      "execution_count": null,
      "outputs": []
    },
    {
      "cell_type": "code",
      "metadata": {
        "id": "4VbXZvvjUCP2",
        "colab_type": "code",
        "colab": {
          "base_uri": "https://localhost:8080/",
          "height": 34
        },
        "outputId": "ef1935a7-650e-4a77-8f2b-cc82c0e8ffa7"
      },
      "source": [
        "#Checking if no. of samples is same\n",
        "data=np.array(data)\n",
        "labels=list(labels)\n",
        "data.shape , len(labels)"
      ],
      "execution_count": null,
      "outputs": [
        {
          "output_type": "execute_result",
          "data": {
            "text/plain": [
              "((4630, 224, 224, 3), 4630)"
            ]
          },
          "metadata": {
            "tags": []
          },
          "execution_count": 55
        }
      ]
    },
    {
      "cell_type": "code",
      "metadata": {
        "id": "50TUJLsHUd8s",
        "colab_type": "code",
        "colab": {}
      },
      "source": [
        "#Test data\n",
        "map_data=list(zip(test_data,test_labels))\n",
        "random.seed(4)\n",
        "random.shuffle(map_data)\n",
        "test_data,test_labels=zip(*map_data)"
      ],
      "execution_count": null,
      "outputs": []
    },
    {
      "cell_type": "code",
      "metadata": {
        "id": "ovycBtBhUqQC",
        "colab_type": "code",
        "colab": {
          "base_uri": "https://localhost:8080/",
          "height": 34
        },
        "outputId": "06a9999b-d661-470d-b767-a211008f7a8b"
      },
      "source": [
        "test_data=np.array(test_data)\n",
        "test_labels=list(test_labels)\n",
        "test_data.shape , len(test_labels)"
      ],
      "execution_count": null,
      "outputs": [
        {
          "output_type": "execute_result",
          "data": {
            "text/plain": [
              "((164, 224, 224, 3), 164)"
            ]
          },
          "metadata": {
            "tags": []
          },
          "execution_count": 58
        }
      ]
    },
    {
      "cell_type": "code",
      "metadata": {
        "id": "3989xC_W5Ct-",
        "colab_type": "code",
        "colab": {}
      },
      "source": [
        "#Optional : To be used if train and test data are both augmented\n",
        "\"\"\"\n",
        "from sklearn.model_selection import train_test_split\n",
        "train,test,train_lab,test_lab=train_test_split(data,labs,test_size=0.2,stratify=labs,random_state=42)\n",
        "\"\"\""
      ],
      "execution_count": null,
      "outputs": []
    },
    {
      "cell_type": "code",
      "metadata": {
        "id": "lsbzn_f3BHsW",
        "colab_type": "code",
        "colab": {
          "base_uri": "https://localhost:8080/",
          "height": 34
        },
        "outputId": "f29692c9-fcc3-4ce4-a8c4-a393c78bf6c5"
      },
      "source": [
        "#len(train) , len(train_lab),len(test),len(test_lab)"
      ],
      "execution_count": null,
      "outputs": [
        {
          "output_type": "execute_result",
          "data": {
            "text/plain": [
              "(3080, 3080, 771, 771)"
            ]
          },
          "metadata": {
            "tags": []
          },
          "execution_count": 75
        }
      ]
    },
    {
      "cell_type": "code",
      "metadata": {
        "id": "RCxuQ1crVIyC",
        "colab_type": "code",
        "colab": {}
      },
      "source": [
        "#Forgot to lab_bin_ise train labels before :p\n",
        "#So gonna do it now!\n",
        "lb_again=LabelBinarizer()\n",
        "labels=lb_again.fit_transform(labels)\n",
        "labels[:5]\n",
        "#Test labels have been forgotten as well\n",
        "lb_again=LabelBinarizer()\n",
        "test_labels=lb_again.fit_transform(test_labels)\n",
        "test_labels[:5]"
      ],
      "execution_count": null,
      "outputs": []
    },
    {
      "cell_type": "code",
      "metadata": {
        "id": "O_WPImIxIx6G",
        "colab_type": "code",
        "colab": {}
      },
      "source": [
        "from tensorflow.keras.utils import to_categorical\n",
        "train_labels=to_categorical(labels,num_classes=2)\n",
        "test_labels_1=to_categorical(test_labels,num_classes=2)"
      ],
      "execution_count": null,
      "outputs": []
    },
    {
      "cell_type": "code",
      "metadata": {
        "id": "cfw53fEeJGaz",
        "colab_type": "code",
        "colab": {
          "base_uri": "https://localhost:8080/",
          "height": 34
        },
        "outputId": "0d6ff416-a731-44ad-85b6-a187f484991f"
      },
      "source": [
        "type(train_labels) , train_labels.shape , type(test_labels_1) , test_labels_1.shape \n"
      ],
      "execution_count": null,
      "outputs": [
        {
          "output_type": "execute_result",
          "data": {
            "text/plain": [
              "(numpy.ndarray, (4630, 2), numpy.ndarray, (164, 2))"
            ]
          },
          "metadata": {
            "tags": []
          },
          "execution_count": 70
        }
      ]
    },
    {
      "cell_type": "code",
      "metadata": {
        "id": "zK3uBLnavLrI",
        "colab_type": "code",
        "colab": {}
      },
      "source": [
        "from tensorflow.keras.applications import ResNet50\n",
        "from tensorflow.keras.applications.resnet import preprocess_input\n",
        "from tensorflow.keras.layers import Input\n",
        "\n",
        "baseModel=ResNet50(\n",
        "    include_top=False,\n",
        "     weights='imagenet',\n",
        "    input_shape=(224,224,3)\n",
        ")"
      ],
      "execution_count": null,
      "outputs": []
    },
    {
      "cell_type": "code",
      "metadata": {
        "id": "kr_UUBdezaj5",
        "colab_type": "code",
        "colab": {}
      },
      "source": [
        "x=baseModel.output\n",
        "x=tf.keras.layers.AveragePooling2D(pool_size=(7,7))(x)\n",
        "x=tf.keras.layers.Flatten()(x)\n",
        "x=tf.keras.layers.Dense(128,activation='relu')(x)\n",
        "x=tf.keras.layers.Dropout(0.5)(x)\n",
        "x=tf.keras.layers.Dense(2,activation='softmax')(x)\n",
        "\n",
        "model=tf.keras.models.Model(inputs=baseModel.input,outputs=x)"
      ],
      "execution_count": null,
      "outputs": []
    },
    {
      "cell_type": "code",
      "metadata": {
        "id": "V5zNX9kdEoaN",
        "colab_type": "code",
        "colab": {}
      },
      "source": [
        "init_lr=1e-5\n",
        "EPOCHS=30"
      ],
      "execution_count": null,
      "outputs": []
    },
    {
      "cell_type": "code",
      "metadata": {
        "id": "yrnRaxloHHQU",
        "colab_type": "code",
        "colab": {}
      },
      "source": [
        "import tensorflow\n",
        "class SnapshotCallbackBuilder:\n",
        "    def __init__(self, nb_epochs, nb_snapshots, init_lr=0.1):\n",
        "        self.T = nb_epochs\n",
        "        self.M = nb_snapshots\n",
        "        self.alpha_zero = init_lr\n",
        "\n",
        "    def get_callbacks(self, model_prefix='Model'):\n",
        "\n",
        "        callback_list = [\n",
        "            swa,\n",
        "            tensorflow.keras.callbacks.LearningRateScheduler(schedule=self._cosine_anneal_schedule)\n",
        "        ]\n",
        "\n",
        "        return callback_list\n",
        "\n",
        "    def _cosine_anneal_schedule(self, t):\n",
        "        cos_inner = np.pi * (t % (self.T // self.M))  # t - 1 is used when t has 1-based indexing.\n",
        "        cos_inner /= self.T // self.M\n",
        "        cos_out = np.cos(cos_inner) + 1\n",
        "        return float(self.alpha_zero / 2 * cos_out)\n",
        "\n",
        "class SWA(tensorflow.keras.callbacks.Callback):\n",
        "    \n",
        "    def __init__(self, filepath, swa_epoch):\n",
        "        super(SWA, self).__init__()\n",
        "        self.filepath = filepath\n",
        "        self.swa_epoch = swa_epoch \n",
        "    \n",
        "    def on_train_begin(self, logs=None):\n",
        "        self.nb_epoch = self.params['epochs']\n",
        "        print('Stochastic weight averaging selected for last {} epochs.'\n",
        "              .format(self.nb_epoch - self.swa_epoch))\n",
        "        \n",
        "    def on_epoch_end(self, epoch, logs=None):\n",
        "        \n",
        "        if epoch == self.swa_epoch:\n",
        "            self.swa_weights = self.model.get_weights()\n",
        "            \n",
        "        elif epoch > self.swa_epoch:    \n",
        "            for i in range(len(self.swa_weights)):\n",
        "                self.swa_weights[i] = (self.swa_weights[i] * \n",
        "                    (epoch - self.swa_epoch) + self.model.get_weights()[i])/((epoch - self.swa_epoch)  + 1)  \n",
        "        else:\n",
        "            pass\n",
        "        \n",
        "    def on_train_end(self, logs=None):\n",
        "        self.model.set_weights(self.swa_weights)\n",
        "        print('Final model parameters set to stochastic weight average.')\n",
        "        self.model.save_weights(self.filepath)\n",
        "        print('Final stochastic averaged weights saved to file.')\n",
        "\n",
        "swa=SWA('/content/drive/My Drive/Vehicle Janata Hack/SWA_weights.h5',EPOCHS-3)\n",
        "snapshot = SnapshotCallbackBuilder(nb_epochs=EPOCHS,nb_snapshots=1,init_lr=init_lr)\n"
      ],
      "execution_count": null,
      "outputs": []
    },
    {
      "cell_type": "code",
      "metadata": {
        "id": "oUnxjTCuDv2_",
        "colab_type": "code",
        "colab": {}
      },
      "source": [
        "import tensorflow\n",
        "opt=tensorflow.keras.optimizers.Adam(learning_rate=1e-5)\n",
        "chk=tensorflow.keras.callbacks.ModelCheckpoint(\n",
        "                                                filepath='/content/drive/My Drive/Vehicle Janata Hack/chk_model.h5',\n",
        "                                                monitor='val_loss',\n",
        "                                               mode='min',\n",
        "                                               save_best_only=True\n",
        "                                               )\n",
        "model.compile(loss='binary_crossentropy',metrics=['accuracy'],optimizer=opt)\n",
        "H=model.fit(data,\n",
        "            train_labels,\n",
        "            validation_data=(test_data,test_labels_1),\n",
        "            epochs=EPOCHS,\n",
        "            batch_size=32,\n",
        "            callbacks=[chk]+snapshot.get_callbacks()\n",
        "            )\n"
      ],
      "execution_count": null,
      "outputs": []
    },
    {
      "cell_type": "code",
      "metadata": {
        "id": "vmSn3qYto6qu",
        "colab_type": "code",
        "colab": {}
      },
      "source": [
        "from tensorflow.keras.models import load_model\n",
        "model.load_weights('/content/drive/My Drive/Vehicle Janata Hack/SWA_weights.h5')"
      ],
      "execution_count": null,
      "outputs": []
    },
    {
      "cell_type": "code",
      "metadata": {
        "id": "_W1IoHt8rABK",
        "colab_type": "code",
        "colab": {}
      },
      "source": [
        "model=load_model('/content/drive/My Drive/Vehicle Janata Hack/chk_model.h5')"
      ],
      "execution_count": null,
      "outputs": []
    },
    {
      "cell_type": "code",
      "metadata": {
        "id": "LU1dNxPkE7_B",
        "colab_type": "code",
        "colab": {}
      },
      "source": [
        "test=pd.read_csv('/content/drive/My Drive/Vehicles Janata test.csv/test_vc2kHdQ.csv')"
      ],
      "execution_count": null,
      "outputs": []
    },
    {
      "cell_type": "code",
      "metadata": {
        "id": "QNf0fSSdUvSV",
        "colab_type": "code",
        "colab": {}
      },
      "source": [
        "img_names=test['image_names']"
      ],
      "execution_count": null,
      "outputs": []
    },
    {
      "cell_type": "code",
      "metadata": {
        "id": "TZeBjObxV4K0",
        "colab_type": "code",
        "colab": {
          "base_uri": "https://localhost:8080/",
          "height": 34
        },
        "outputId": "cb35ba73-c434-45e8-ea53-689e7fb6bf55"
      },
      "source": [
        "lb.classes_"
      ],
      "execution_count": null,
      "outputs": [
        {
          "output_type": "execute_result",
          "data": {
            "text/plain": [
              "array(['no', 'yes'], dtype='<U3')"
            ]
          },
          "metadata": {
            "tags": []
          },
          "execution_count": 111
        }
      ]
    },
    {
      "cell_type": "code",
      "metadata": {
        "id": "oMSk3hIjVM34",
        "colab_type": "code",
        "colab": {}
      },
      "source": [
        "results=[]\n",
        "for i in img_names:\n",
        "  imgpath=os.path.sep.join(['/content/train/images',i])\n",
        "  img=cv2.imread(imgpath)\n",
        "  img=preprocess_input(img)\n",
        "  img=np.expand_dims(img,axis=0)\n",
        "  out=model.predict(img)\n",
        "  if(out[0][0]>out[0][1]):\n",
        "    results.append(0)\n",
        "  else:\n",
        "    results.append(1)"
      ],
      "execution_count": null,
      "outputs": []
    },
    {
      "cell_type": "code",
      "metadata": {
        "id": "vnSuQw6IWFld",
        "colab_type": "code",
        "colab": {
          "base_uri": "https://localhost:8080/",
          "height": 34
        },
        "outputId": "e8783628-b0d8-43a4-e48b-d132dfd37d24"
      },
      "source": [
        "len(results)"
      ],
      "execution_count": null,
      "outputs": [
        {
          "output_type": "execute_result",
          "data": {
            "text/plain": [
              "706"
            ]
          },
          "metadata": {
            "tags": []
          },
          "execution_count": 98
        }
      ]
    },
    {
      "cell_type": "code",
      "metadata": {
        "id": "0IyVuFA9WMdK",
        "colab_type": "code",
        "colab": {}
      },
      "source": [
        "test_results=pd.Series(results,name='emergency_or_not')"
      ],
      "execution_count": null,
      "outputs": []
    },
    {
      "cell_type": "code",
      "metadata": {
        "id": "-_amDjHxX21x",
        "colab_type": "code",
        "colab": {}
      },
      "source": [
        "table=pd.concat([pd.Series(img_names,name='image_names'),test_results],axis=1)"
      ],
      "execution_count": null,
      "outputs": []
    },
    {
      "cell_type": "code",
      "metadata": {
        "id": "Ik5Fs1mCYWxf",
        "colab_type": "code",
        "colab": {}
      },
      "source": [
        "table.to_csv('/content/drive/My Drive/Vehicle Janata Hack/test_results.csv')"
      ],
      "execution_count": null,
      "outputs": []
    }
  ]
}